{
 "cells": [
  {
   "cell_type": "code",
   "execution_count": 1,
   "id": "65850cb9",
   "metadata": {},
   "outputs": [],
   "source": [
    "import requests\n",
    "import pandas as pd\n",
    "import matplotlib.pyplot as plt\n",
    "import numpy\n",
    "import json"
   ]
  },
  {
   "cell_type": "code",
   "execution_count": 2,
   "id": "155a4af7",
   "metadata": {},
   "outputs": [],
   "source": [
    "baseURL = 'https://api.weather.com'\n",
    "apiKey = '2b6ed19f3d474152aed19f3d4791527d'\n",
    "geocode = '27.7298,-85.3382'\n",
    "format = 'json'\n",
    "units = 'e'\n",
    "language = 'en-US'"
   ]
  },
  {
   "cell_type": "code",
   "execution_count": 3,
   "id": "ba2ea8c7",
   "metadata": {},
   "outputs": [],
   "source": [
    "url = baseURL + '/v3/wx/forecast/daily/7day'+'?geocode='+ geocode +'&format='+ format +'&units='+ units +'&language='+ language +'&apiKey='+ apiKey\n",
    "response =requests.get(url).json()\n"
   ]
  },
  {
   "cell_type": "code",
   "execution_count": 4,
   "id": "1f798e14",
   "metadata": {},
   "outputs": [
    {
     "name": "stdout",
     "output_type": "stream",
     "text": [
      "{'calendarDayTemperatureMax': [82, 80, 79, 78, 78, 79, 80, 80], 'calendarDayTemperatureMin': [77, 76, 74, 75, 75, 77, 77, 76], 'dayOfWeek': ['Sunday', 'Monday', 'Tuesday', 'Wednesday', 'Thursday', 'Friday', 'Saturday', 'Sunday'], 'expirationTimeUtc': [1664747585, 1664747585, 1664747585, 1664747585, 1664747585, 1664747585, 1664747585, 1664747585], 'moonPhase': ['First Quarter', 'Waxing Gibbous', 'Waxing Gibbous', 'Waxing Gibbous', 'Waxing Gibbous', 'Waxing Gibbous', 'Waxing Gibbous', 'Full Moon'], 'moonPhaseCode': ['FQ', 'WXG', 'WXG', 'WXG', 'WXG', 'WXG', 'WXG', 'F'], 'moonPhaseDay': [7, 8, 9, 10, 11, 12, 13, 14], 'moonriseTimeLocal': ['2022-10-02T12:28:10-0600', '2022-10-03T13:28:04-0600', '2022-10-04T14:20:08-0600', '2022-10-05T15:06:02-0600', '2022-10-06T15:46:02-0600', '2022-10-07T16:21:19-0600', '2022-10-08T16:54:43-0600', '2022-10-09T17:27:13-0600'], 'moonriseTimeUtc': [1664735290, 1664825284, 1664914808, 1665003962, 1665092762, 1665181279, 1665269683, 1665358033], 'moonsetTimeLocal': ['2022-10-02T22:46:14-0600', '2022-10-03T23:52:48-0600', '', '2022-10-05T01:00:52-0600', '2022-10-06T02:08:08-0600', '2022-10-07T03:13:39-0600', '2022-10-08T04:16:10-0600', '2022-10-09T05:17:37-0600'], 'moonsetTimeUtc': [1664772374, 1664862768, None, 1664953252, 1665043688, 1665134019, 1665224170, 1665314257], 'narrative': ['Clear. Lows overnight in the upper 70s.', 'Times of sun and clouds. Highs in the low 80s and lows in the mid 70s.', 'Mix of sun and clouds. Highs in the upper 70s and lows in the mid 70s.', 'Partly cloudy. Highs in the upper 70s and lows in the mid 70s.', 'Mainly sunny. Highs in the upper 70s and lows in the mid 70s.', 'Mainly sunny. Highs in the upper 70s with temperatures nearly steady overnight.', 'Sunshine. Highs in the low 80s and lows in the upper 70s.', 'More sun than clouds. Highs in the upper 70s and lows in the mid 70s.'], 'qpf': [0.0, 0.0, 0.0, 0.0, 0.0, 0.0, 0.0, 0.0], 'qpfSnow': [0.0, 0.0, 0.0, 0.0, 0.0, 0.0, 0.0, 0.0], 'sunriseTimeLocal': ['2022-10-02T05:34:57-0600', '2022-10-03T05:35:27-0600', '2022-10-04T05:35:57-0600', '2022-10-05T05:36:28-0600', '2022-10-06T05:36:58-0600', '2022-10-07T05:37:30-0600', '2022-10-08T05:38:01-0600', '2022-10-09T05:38:33-0600'], 'sunriseTimeUtc': [1664710497, 1664796927, 1664883357, 1664969788, 1665056218, 1665142650, 1665229081, 1665315513], 'sunsetTimeLocal': ['2022-10-02T17:26:27-0600', '2022-10-03T17:25:19-0600', '2022-10-04T17:24:11-0600', '2022-10-05T17:23:04-0600', '2022-10-06T17:21:57-0600', '2022-10-07T17:20:51-0600', '2022-10-08T17:19:45-0600', '2022-10-09T17:18:40-0600'], 'sunsetTimeUtc': [1664753187, 1664839519, 1664925851, 1665012184, 1665098517, 1665184851, 1665271185, 1665357520], 'temperatureMax': [None, 80, 77, 77, 78, 79, 80, 79], 'temperatureMin': [77, 75, 74, 75, 76, 77, 77, 76], 'validTimeLocal': ['2022-10-02T07:00:00-0600', '2022-10-03T07:00:00-0600', '2022-10-04T07:00:00-0600', '2022-10-05T07:00:00-0600', '2022-10-06T07:00:00-0600', '2022-10-07T07:00:00-0600', '2022-10-08T07:00:00-0600', '2022-10-09T07:00:00-0600'], 'validTimeUtc': [1664715600, 1664802000, 1664888400, 1664974800, 1665061200, 1665147600, 1665234000, 1665320400], 'daypart': [{'cloudCover': [None, 4, 40, 44, 48, 35, 20, 13, 16, 21, 16, 24, 17, 22, 19, 29], 'dayOrNight': [None, 'N', 'D', 'N', 'D', 'N', 'D', 'N', 'D', 'N', 'D', 'N', 'D', 'N', 'D', 'N'], 'daypartName': [None, 'Tonight', 'Tomorrow', 'Tomorrow night', 'Tuesday', 'Tuesday night', 'Wednesday', 'Wednesday night', 'Thursday', 'Thursday night', 'Friday', 'Friday night', 'Saturday', 'Saturday night', 'Sunday', 'Sunday night'], 'iconCode': [None, 31, 30, 29, 30, 29, 30, 33, 32, 33, 32, 33, 32, 33, 34, 24], 'iconCodeExtend': [None, 3100, 3000, 2900, 3000, 2900, 3000, 3300, 3200, 3300, 3200, 3300, 3200, 3300, 3400, 2910], 'narrative': [None, 'Clear skies. Low 77F. Winds NNW at 10 to 20 mph.', 'Partly cloudy skies. High around 80F. Winds NNE at 10 to 20 mph.', 'A few clouds. Low near 75F. Winds NE at 10 to 20 mph.', 'Partly cloudy. High 77F. Winds NE at 10 to 20 mph.', 'Partly cloudy skies. Low 74F. Winds ENE at 10 to 20 mph.', 'Some clouds in the morning will give way to mainly sunny skies for the afternoon. High 77F. Winds ENE at 10 to 20 mph.', 'A mostly clear sky. Low around 75F. Winds ENE at 10 to 15 mph.', 'Sunny skies. High 78F. Winds ENE at 10 to 15 mph.', 'A few clouds from time to time. Low 76F. Winds NE at 10 to 15 mph.', 'Sunny skies. High 79F. Winds NE at 10 to 15 mph.', 'Mostly clear skies. Low 77F. Winds NNE at 10 to 15 mph.', 'Sunny skies. High near 80F. Winds NNE at 10 to 20 mph.', 'Mostly clear skies. Low 77F. Winds NE at 15 to 25 mph.', 'A few clouds from time to time. High 79F. Winds NE at 15 to 25 mph.', 'Partly cloudy. Gusty winds after midnight. Low 76F. Winds NE at 20 to 30 mph.'], 'precipChance': [None, 1, 14, 24, 24, 7, 4, 0, 0, 0, 0, 0, 2, 3, 4, 17], 'precipType': [None, 'rain', 'rain', 'rain', 'rain', 'rain', 'rain', 'rain', 'rain', 'rain', 'rain', 'rain', 'rain', 'rain', 'rain', 'rain'], 'qpf': [None, 0.0, 0.0, 0.0, 0.0, 0.0, 0.0, 0.0, 0.0, 0.0, 0.0, 0.0, 0.0, 0.0, 0.0, 0.0], 'qpfSnow': [None, 0.0, 0.0, 0.0, 0.0, 0.0, 0.0, 0.0, 0.0, 0.0, 0.0, 0.0, 0.0, 0.0, 0.0, 0.0], 'qualifierCode': [None, None, None, None, None, None, None, None, None, None, None, None, None, None, None, None], 'qualifierPhrase': [None, None, None, None, None, None, None, None, None, None, None, None, None, None, None, None], 'relativeHumidity': [None, 59, 63, 64, 69, 66, 58, 54, 58, 57, 60, 59, 65, 65, 72, 72], 'snowRange': [None, '', '', '', '', '', '', '', '', '', '', '', '', '', '', ''], 'temperature': [None, 77, 80, 75, 77, 74, 77, 75, 78, 76, 79, 77, 80, 77, 79, 76], 'temperatureHeatIndex': [None, 82, 82, 81, 80, 80, 79, 80, 81, 81, 81, 82, 83, 82, 82, 82], 'temperatureWindChill': [None, 77, 77, 75, 75, 74, 76, 75, 78, 76, 78, 77, 78, 77, 77, 76], 'thunderCategory': [None, 'No thunder', 'No thunder', 'No thunder', 'No thunder', 'No thunder', 'No thunder', 'No thunder', 'No thunder', 'No thunder', 'No thunder', 'No thunder', 'No thunder', 'No thunder', 'No thunder', 'No thunder'], 'thunderIndex': [None, 0, 0, 0, 0, 0, 0, 0, 0, 0, 0, 0, 0, 0, 0, 0], 'uvDescription': [None, 'Low', 'Very High', 'Low', 'Very High', 'Low', 'Very High', 'Low', 'Very High', 'Low', 'Very High', 'Low', 'Very High', 'Low', 'Very High', 'Low'], 'uvIndex': [None, 0, 9, 0, 9, 0, 9, 0, 9, 0, 9, 0, 9, 0, 8, 0], 'windDirection': [None, 345, 16, 47, 46, 66, 57, 63, 60, 49, 45, 30, 30, 38, 50, 52], 'windDirectionCardinal': [None, 'NNW', 'NNE', 'NE', 'NE', 'ENE', 'ENE', 'ENE', 'ENE', 'NE', 'NE', 'NNE', 'NNE', 'NE', 'NE', 'NE'], 'windPhrase': [None, 'Winds NNW at 10 to 20 mph.', 'Winds NNE at 10 to 20 mph.', 'Winds NE at 10 to 20 mph.', 'Winds NE at 10 to 20 mph.', 'Winds ENE at 10 to 20 mph.', 'Winds ENE at 10 to 20 mph.', 'Winds ENE at 10 to 15 mph.', 'Winds ENE at 10 to 15 mph.', 'Winds NE at 10 to 15 mph.', 'Winds NE at 10 to 15 mph.', 'Winds NNE at 10 to 15 mph.', 'Winds NNE at 10 to 20 mph.', 'Winds NE at 15 to 25 mph.', 'Winds NE at 15 to 25 mph.', 'Winds NE at 20 to 30 mph.'], 'windSpeed': [None, 14, 16, 16, 15, 14, 15, 12, 11, 11, 11, 13, 16, 17, 19, 21], 'wxPhraseLong': [None, 'Clear', 'Partly Cloudy', 'Partly Cloudy', 'Partly Cloudy', 'Partly Cloudy', 'Partly Cloudy', 'Mostly Clear', 'Sunny', 'Mostly Clear', 'Sunny', 'Mostly Clear', 'Sunny', 'Mostly Clear', 'Mostly Sunny', 'Partly Cloudy/Wind'], 'wxPhraseShort': [None, 'Clear', 'P Cloudy', 'P Cloudy', 'P Cloudy', 'P Cloudy', 'P Cloudy', 'M Clear', 'Sunny', 'M Clear', 'Sunny', 'M Clear', 'Sunny', 'M Clear', 'M Sunny', 'P Cldy/Wind']}]}\n"
     ]
    }
   ],
   "source": [
    "print(response)"
   ]
  },
  {
   "cell_type": "code",
   "execution_count": 5,
   "id": "80525015",
   "metadata": {},
   "outputs": [
    {
     "name": "stdout",
     "output_type": "stream",
     "text": [
      "<class 'dict'>\n"
     ]
    }
   ],
   "source": [
    "print(type(response))"
   ]
  },
  {
   "cell_type": "code",
   "execution_count": 13,
   "id": "0632ec9d",
   "metadata": {},
   "outputs": [],
   "source": [
    "df = pd.DataFrame(list(response.items())) "
   ]
  },
  {
   "cell_type": "code",
   "execution_count": 14,
   "id": "a3059b98",
   "metadata": {},
   "outputs": [],
   "source": [
    "df.to_csv('weather.csv')"
   ]
  },
  {
   "cell_type": "code",
   "execution_count": 16,
   "id": "592a1a4e",
   "metadata": {},
   "outputs": [
    {
     "data": {
      "text/html": [
       "<div>\n",
       "<style scoped>\n",
       "    .dataframe tbody tr th:only-of-type {\n",
       "        vertical-align: middle;\n",
       "    }\n",
       "\n",
       "    .dataframe tbody tr th {\n",
       "        vertical-align: top;\n",
       "    }\n",
       "\n",
       "    .dataframe thead th {\n",
       "        text-align: right;\n",
       "    }\n",
       "</style>\n",
       "<table border=\"1\" class=\"dataframe\">\n",
       "  <thead>\n",
       "    <tr style=\"text-align: right;\">\n",
       "      <th></th>\n",
       "      <th>0</th>\n",
       "      <th>1</th>\n",
       "    </tr>\n",
       "  </thead>\n",
       "  <tbody>\n",
       "    <tr>\n",
       "      <th>0</th>\n",
       "      <td>calendarDayTemperatureMax</td>\n",
       "      <td>[82, 80, 79, 78, 78, 79, 80, 80]</td>\n",
       "    </tr>\n",
       "    <tr>\n",
       "      <th>1</th>\n",
       "      <td>calendarDayTemperatureMin</td>\n",
       "      <td>[77, 76, 74, 75, 75, 77, 77, 76]</td>\n",
       "    </tr>\n",
       "    <tr>\n",
       "      <th>2</th>\n",
       "      <td>dayOfWeek</td>\n",
       "      <td>[Sunday, Monday, Tuesday, Wednesday, Thursday,...</td>\n",
       "    </tr>\n",
       "    <tr>\n",
       "      <th>3</th>\n",
       "      <td>expirationTimeUtc</td>\n",
       "      <td>[1664747585, 1664747585, 1664747585, 166474758...</td>\n",
       "    </tr>\n",
       "    <tr>\n",
       "      <th>4</th>\n",
       "      <td>moonPhase</td>\n",
       "      <td>[First Quarter, Waxing Gibbous, Waxing Gibbous...</td>\n",
       "    </tr>\n",
       "    <tr>\n",
       "      <th>5</th>\n",
       "      <td>moonPhaseCode</td>\n",
       "      <td>[FQ, WXG, WXG, WXG, WXG, WXG, WXG, F]</td>\n",
       "    </tr>\n",
       "    <tr>\n",
       "      <th>6</th>\n",
       "      <td>moonPhaseDay</td>\n",
       "      <td>[7, 8, 9, 10, 11, 12, 13, 14]</td>\n",
       "    </tr>\n",
       "    <tr>\n",
       "      <th>7</th>\n",
       "      <td>moonriseTimeLocal</td>\n",
       "      <td>[2022-10-02T12:28:10-0600, 2022-10-03T13:28:04...</td>\n",
       "    </tr>\n",
       "    <tr>\n",
       "      <th>8</th>\n",
       "      <td>moonriseTimeUtc</td>\n",
       "      <td>[1664735290, 1664825284, 1664914808, 166500396...</td>\n",
       "    </tr>\n",
       "    <tr>\n",
       "      <th>9</th>\n",
       "      <td>moonsetTimeLocal</td>\n",
       "      <td>[2022-10-02T22:46:14-0600, 2022-10-03T23:52:48...</td>\n",
       "    </tr>\n",
       "    <tr>\n",
       "      <th>10</th>\n",
       "      <td>moonsetTimeUtc</td>\n",
       "      <td>[1664772374, 1664862768, None, 1664953252, 166...</td>\n",
       "    </tr>\n",
       "    <tr>\n",
       "      <th>11</th>\n",
       "      <td>narrative</td>\n",
       "      <td>[Clear. Lows overnight in the upper 70s., Time...</td>\n",
       "    </tr>\n",
       "    <tr>\n",
       "      <th>12</th>\n",
       "      <td>qpf</td>\n",
       "      <td>[0.0, 0.0, 0.0, 0.0, 0.0, 0.0, 0.0, 0.0]</td>\n",
       "    </tr>\n",
       "    <tr>\n",
       "      <th>13</th>\n",
       "      <td>qpfSnow</td>\n",
       "      <td>[0.0, 0.0, 0.0, 0.0, 0.0, 0.0, 0.0, 0.0]</td>\n",
       "    </tr>\n",
       "    <tr>\n",
       "      <th>14</th>\n",
       "      <td>sunriseTimeLocal</td>\n",
       "      <td>[2022-10-02T05:34:57-0600, 2022-10-03T05:35:27...</td>\n",
       "    </tr>\n",
       "    <tr>\n",
       "      <th>15</th>\n",
       "      <td>sunriseTimeUtc</td>\n",
       "      <td>[1664710497, 1664796927, 1664883357, 166496978...</td>\n",
       "    </tr>\n",
       "    <tr>\n",
       "      <th>16</th>\n",
       "      <td>sunsetTimeLocal</td>\n",
       "      <td>[2022-10-02T17:26:27-0600, 2022-10-03T17:25:19...</td>\n",
       "    </tr>\n",
       "    <tr>\n",
       "      <th>17</th>\n",
       "      <td>sunsetTimeUtc</td>\n",
       "      <td>[1664753187, 1664839519, 1664925851, 166501218...</td>\n",
       "    </tr>\n",
       "    <tr>\n",
       "      <th>18</th>\n",
       "      <td>temperatureMax</td>\n",
       "      <td>[None, 80, 77, 77, 78, 79, 80, 79]</td>\n",
       "    </tr>\n",
       "    <tr>\n",
       "      <th>19</th>\n",
       "      <td>temperatureMin</td>\n",
       "      <td>[77, 75, 74, 75, 76, 77, 77, 76]</td>\n",
       "    </tr>\n",
       "    <tr>\n",
       "      <th>20</th>\n",
       "      <td>validTimeLocal</td>\n",
       "      <td>[2022-10-02T07:00:00-0600, 2022-10-03T07:00:00...</td>\n",
       "    </tr>\n",
       "    <tr>\n",
       "      <th>21</th>\n",
       "      <td>validTimeUtc</td>\n",
       "      <td>[1664715600, 1664802000, 1664888400, 166497480...</td>\n",
       "    </tr>\n",
       "    <tr>\n",
       "      <th>22</th>\n",
       "      <td>daypart</td>\n",
       "      <td>[{'cloudCover': [None, 4, 40, 44, 48, 35, 20, ...</td>\n",
       "    </tr>\n",
       "  </tbody>\n",
       "</table>\n",
       "</div>"
      ],
      "text/plain": [
       "                            0  \\\n",
       "0   calendarDayTemperatureMax   \n",
       "1   calendarDayTemperatureMin   \n",
       "2                   dayOfWeek   \n",
       "3           expirationTimeUtc   \n",
       "4                   moonPhase   \n",
       "5               moonPhaseCode   \n",
       "6                moonPhaseDay   \n",
       "7           moonriseTimeLocal   \n",
       "8             moonriseTimeUtc   \n",
       "9            moonsetTimeLocal   \n",
       "10             moonsetTimeUtc   \n",
       "11                  narrative   \n",
       "12                        qpf   \n",
       "13                    qpfSnow   \n",
       "14           sunriseTimeLocal   \n",
       "15             sunriseTimeUtc   \n",
       "16            sunsetTimeLocal   \n",
       "17              sunsetTimeUtc   \n",
       "18             temperatureMax   \n",
       "19             temperatureMin   \n",
       "20             validTimeLocal   \n",
       "21               validTimeUtc   \n",
       "22                    daypart   \n",
       "\n",
       "                                                    1  \n",
       "0                    [82, 80, 79, 78, 78, 79, 80, 80]  \n",
       "1                    [77, 76, 74, 75, 75, 77, 77, 76]  \n",
       "2   [Sunday, Monday, Tuesday, Wednesday, Thursday,...  \n",
       "3   [1664747585, 1664747585, 1664747585, 166474758...  \n",
       "4   [First Quarter, Waxing Gibbous, Waxing Gibbous...  \n",
       "5               [FQ, WXG, WXG, WXG, WXG, WXG, WXG, F]  \n",
       "6                       [7, 8, 9, 10, 11, 12, 13, 14]  \n",
       "7   [2022-10-02T12:28:10-0600, 2022-10-03T13:28:04...  \n",
       "8   [1664735290, 1664825284, 1664914808, 166500396...  \n",
       "9   [2022-10-02T22:46:14-0600, 2022-10-03T23:52:48...  \n",
       "10  [1664772374, 1664862768, None, 1664953252, 166...  \n",
       "11  [Clear. Lows overnight in the upper 70s., Time...  \n",
       "12           [0.0, 0.0, 0.0, 0.0, 0.0, 0.0, 0.0, 0.0]  \n",
       "13           [0.0, 0.0, 0.0, 0.0, 0.0, 0.0, 0.0, 0.0]  \n",
       "14  [2022-10-02T05:34:57-0600, 2022-10-03T05:35:27...  \n",
       "15  [1664710497, 1664796927, 1664883357, 166496978...  \n",
       "16  [2022-10-02T17:26:27-0600, 2022-10-03T17:25:19...  \n",
       "17  [1664753187, 1664839519, 1664925851, 166501218...  \n",
       "18                 [None, 80, 77, 77, 78, 79, 80, 79]  \n",
       "19                   [77, 75, 74, 75, 76, 77, 77, 76]  \n",
       "20  [2022-10-02T07:00:00-0600, 2022-10-03T07:00:00...  \n",
       "21  [1664715600, 1664802000, 1664888400, 166497480...  \n",
       "22  [{'cloudCover': [None, 4, 40, 44, 48, 35, 20, ...  "
      ]
     },
     "execution_count": 16,
     "metadata": {},
     "output_type": "execute_result"
    }
   ],
   "source": [
    "df"
   ]
  },
  {
   "cell_type": "code",
   "execution_count": null,
   "id": "d4485c07",
   "metadata": {},
   "outputs": [],
   "source": []
  }
 ],
 "metadata": {
  "kernelspec": {
   "display_name": "Python 3 (ipykernel)",
   "language": "python",
   "name": "python3"
  },
  "language_info": {
   "codemirror_mode": {
    "name": "ipython",
    "version": 3
   },
   "file_extension": ".py",
   "mimetype": "text/x-python",
   "name": "python",
   "nbconvert_exporter": "python",
   "pygments_lexer": "ipython3",
   "version": "3.7.8"
  }
 },
 "nbformat": 4,
 "nbformat_minor": 5
}
